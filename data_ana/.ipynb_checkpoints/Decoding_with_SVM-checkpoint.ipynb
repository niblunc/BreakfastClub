{
 "cells": [
  {
   "cell_type": "markdown",
   "metadata": {},
   "source": [
    "# Decoding with the ANOVA + SVM: fed vs. fasted in the Breakfast Club data  \n",
    "\n",
    "      \n",
    "Here we are decoding the Breakfast Club dataset following example code outlined in the nilearn pacakge. We are using a feature selection (ANOVA), followed by an SVM, using nested cross-validation.  \n",
    "  \n"
   ]
  },
  {
   "cell_type": "markdown",
   "metadata": {},
   "source": [
    "Import packages:"
   ]
  },
  {
   "cell_type": "code",
   "execution_count": null,
   "metadata": {},
   "outputs": [],
   "source": [
    "import os\n",
    "import numpy as np\n",
    "import nilearn\n",
    "import glob\n",
    "#import matplotlib\n",
    "import nibabel as nib\n",
    "import pandas as pd \n",
    "from nilearn.input_data import NiftiMasker \n",
    "import numpy as np\n",
    "np.seterr(divide='ignore', invalid='ignore')\n",
    "import warnings\n",
    "warnings.filterwarnings(\"ignore\")\n",
    "import matplotlib\n",
    "matplotlib.use('Agg')"
   ]
  },
  {
   "cell_type": "markdown",
   "metadata": {},
   "source": [
    "# I . Nilearn Mask  \n",
    "#### Here we decode using a nilearn generated ROI mask.  \n",
    "  \n",
    "\n",
    "#### First step is to load our relevant data:"
   ]
  },
  {
   "cell_type": "code",
   "execution_count": null,
   "metadata": {},
   "outputs": [],
   "source": [
    "\n",
    "# Behavioral csv file \n",
    "stim = '/projects/niblab/bids_projects/Experiments/BreakfastClub/bf_behavioral.csv'\n",
    "# Dataset nifti image \n",
    "dataset='/projects/niblab/bids_projects/Experiments/BreakfastClub/images/bfclub_all.nii.gz'\n",
    "\n",
    "# Load behavioral data into a pandas df\n",
    "behavioral = pd.read_csv(stim, sep=\"\\t\")\n",
    "#grab conditional labels \n",
    "y = behavioral[\"labels\"]\n",
    "\n",
    "# Here we look at our data variables to confirm we have the data loaded correctly\n",
    "#print(y.unique())\n",
    "\n",
    "# Restrict data to our target analysis variables and make a condition mask for analysis\n",
    "condition_mask = y.isin(['fasted', 'fed'])\n",
    "y = y[condition_mask]\n",
    "\n",
    "# Confirm we have the unique conditions wanted \n",
    "print(conditions.unique())"
   ]
  },
  {
   "cell_type": "markdown",
   "metadata": {},
   "source": [
    "### Prepare data now with NiftiMasker"
   ]
  },
  {
   "cell_type": "code",
   "execution_count": null,
   "metadata": {},
   "outputs": [],
   "source": [
    "masker = NiftiMasker(standardize=True, memory=\"nilearn_cache\", memory_level=2)\n",
    "X = masker.fit_transform(dataset)\n",
    "# Apply our condition_mask\n",
    "X = X[condition_mask]"
   ]
  },
  {
   "cell_type": "markdown",
   "metadata": {},
   "source": [
    "### Build the decoder:  \n",
    "Here we are setting the prediction function used. Here we are using a Support Vector Classification, with a linear kernel. The dimension reduction technique used is ANOVA, *' a classical univariate feature selection based on the F-test.'* We set the number of features to be selected to 500. "
   ]
  },
  {
   "cell_type": "code",
   "execution_count": null,
   "metadata": {},
   "outputs": [],
   "source": [
    "\n",
    "from sklearn.svm import SVC\n",
    "svc = SVC(kernel='linear')\n",
    "\n",
    "from sklearn.feature_selection import SelectKBest, f_classif\n",
    "feature_selection = SelectKBest(f_classif, k=500)\n",
    "\n",
    "# We have our classifier (SVC), our feature selection (SelectKBest), and now,\n",
    "# we can plug them together in a *pipeline* that performs the two operations\n",
    "# successively:\n",
    "from sklearn.pipeline import Pipeline\n",
    "anova_svc = Pipeline([('anova', feature_selection), ('svc', svc)])"
   ]
  },
  {
   "cell_type": "markdown",
   "metadata": {},
   "source": [
    "### Fit the decoder and predict"
   ]
  },
  {
   "cell_type": "code",
   "execution_count": null,
   "metadata": {},
   "outputs": [],
   "source": [
    "anova_svc.fit(X, conditions)\n",
    "y_pred = anova_svc.predict(X)\n"
   ]
  },
  {
   "cell_type": "markdown",
   "metadata": {},
   "source": [
    "### Nested cross-validation  \n",
    "Here we are using Nested Cross Validation, tuning the parameters 'k'."
   ]
  },
  {
   "cell_type": "code",
   "execution_count": null,
   "metadata": {},
   "outputs": [],
   "source": [
    "\n",
    "k_range = [10, 15, 30, 50, 150, 300, 500, 1000, 1500, 3000, 5000]\n",
    "    \n",
    "# Here we run gridsearch\n",
    "from sklearn.model_selection import GridSearchCV\n",
    "# We are going to tune the parameter 'k' of the step called 'anova' in\n",
    "# the pipeline. Thus we need to address it as 'anova__k'.\n",
    "\n",
    "# Note that GridSearchCV takes an n_jobs argument that can make it go\n",
    "# much faster'\n",
    "grid = GridSearchCV(anova_svc, param_grid={'anova__k': k_range}, verbose=1, n_jobs=4, cv=3)\n",
    "nested_cv_scores = cross_val_score(grid, X, conditions, cv=3)\n",
    "\n",
    "print(\"Nested CV score: %.4f\" % np.mean(nested_cv_scores))\n"
   ]
  },
  {
   "cell_type": "markdown",
   "metadata": {},
   "source": [
    "    Fitting 3 folds for each of 11 candidates, totalling 33 fits  \n",
    "    [Parallel(n_jobs=4)]: Using backend SequentialBackend with 1 concurrent workers.  \n",
    "    [Parallel(n_jobs=4)]: Done  33 out of  33 | elapsed:  2.1min finished\n",
    "    Fitting 3 folds for each of 11 candidates, totalling 33 fits  \n",
    "    [Parallel(n_jobs=4)]: Using backend SequentialBackend with 1 concurrent workers.  \n",
    "    [Parallel(n_jobs=4)]: Done  33 out of  33 | elapsed:  2.1min finished\n",
    "    Fitting 3 folds for each of 11 candidates, totalling 33 fits  \n",
    "    [Parallel(n_jobs=4)]: Using backend SequentialBackend with 1 concurrent workers.  \n",
    "    [Parallel(n_jobs=4)]: Done  33 out of  33 | elapsed:  2.1min finished  \n",
    "    Nested CV score: 0.5249  \n"
   ]
  },
  {
   "cell_type": "markdown",
   "metadata": {},
   "source": [
    "### Visualize and save the results  \n",
    "Look at the SVC's discriminating weights, and save the plot as a *.png* image and save the results to nifti image"
   ]
  },
  {
   "cell_type": "code",
   "execution_count": null,
   "metadata": {},
   "outputs": [],
   "source": [
    "\n",
    "# Here is the image \n",
    "coef = svc.coef_\n",
    "# reverse feature selection\n",
    "coef = feature_selection.inverse_transform(coef)\n",
    "# reverse masking\n",
    "weight_img = masker.inverse_transform(coef)\n",
    "\n",
    "\n",
    "# Use the mean image as a background to avoid relying on anatomical data\n",
    "from nilearn import image\n",
    "mean_img = image.mean_img(dataset)\n",
    "mean_img.to_filename('/projects/niblab/bids_projects/Experiments/BreakfastClub/derivatives/images/bfclub_mean_nimask.nii')\n",
    "\n",
    "# Create the figure\n",
    "from nilearn.plotting import plot_stat_map, show\n",
    "display = plot_stat_map(weight_img, mean_img, title='SVM weights')\n",
    "display.savefig('/projects/niblab/bids_projects/Experiments/BreakfastClub/derivatives/images/bfclub_nestCV_nimask.png')\n",
    "# Saving the results as a Nifti file may also be important\n",
    "weight_img.to_filename('/projects/niblab/bids_projects/Experiments/BreakfastClub/derivatives/images/bfclub_nestCV_nimask.nii')"
   ]
  },
  {
   "cell_type": "markdown",
   "metadata": {},
   "source": [
    "<img src=\"bfclub_nestCV_nimask.png\" alt=\"nimask\">"
   ]
  },
  {
   "cell_type": "markdown",
   "metadata": {},
   "source": [
    "# II. Power ROI mask\n",
    "## Prepare NiftiMasker now with the power ROI mask "
   ]
  },
  {
   "cell_type": "code",
   "execution_count": null,
   "metadata": {},
   "outputs": [],
   "source": [
    "#image mask\n",
    "imag_mask='/projects/niblab/bids_projects/Experiments/ChocoData/images/power_roimask_4bi.nii.gz'\n",
    "\n",
    "masker = NiftiMasker(mask_img=imag_mask, standardize=True, memory=\"nilearn_cache\", memory_level=2)\n",
    "\n",
    "X = masker.fit_transform(dataset)\n",
    "# Apply our condition_mask\n",
    "X = X[condition_mask]"
   ]
  },
  {
   "cell_type": "markdown",
   "metadata": {},
   "source": [
    "### Fit the decoder and predict"
   ]
  },
  {
   "cell_type": "code",
   "execution_count": null,
   "metadata": {},
   "outputs": [],
   "source": [
    "anova_svc.fit(X, conditions)\n",
    "y_pred = anova_svc.predict(X)"
   ]
  },
  {
   "cell_type": "markdown",
   "metadata": {},
   "source": [
    "### Nested cross-validation  "
   ]
  },
  {
   "cell_type": "code",
   "execution_count": null,
   "metadata": {},
   "outputs": [],
   "source": [
    "# Here we run gridsearch\n",
    "from sklearn.model_selection import GridSearchCV\n",
    "# We are going to tune the parameter 'k' of the step called 'anova' in\n",
    "# the pipeline. Thus we need to address it as 'anova__k'.\n",
    "\n",
    "# Note that GridSearchCV takes an n_jobs argument that can make it go\n",
    "# much faster'\n",
    "grid = GridSearchCV(anova_svc, param_grid={'anova__k': k_range}, verbose=1, n_jobs=4, cv=3)\n",
    "nested_cv_scores = cross_val_score(grid, X, conditions, cv=3)\n",
    "\n",
    "print(\"Nested CV score: %.4f\" % np.mean(nested_cv_scores))\n"
   ]
  },
  {
   "cell_type": "markdown",
   "metadata": {},
   "source": [
    "    Fitting 3 folds for each of 11 candidates, totalling 33 fits  \n",
    "    [Parallel(n_jobs=4)]: Using backend SequentialBackend with 1 concurrent workers.  \n",
    "    [Parallel(n_jobs=4)]: Done  33 out of  33 | elapsed:   36.7s finished  \n",
    "    Fitting 3 folds for each of 11 candidates, totalling 33 fits  \n",
    "    [Parallel(n_jobs=4)]: Using backend SequentialBackend with 1 concurrent workers.  \n",
    "    [Parallel(n_jobs=4)]: Done  33 out of  33 | elapsed:   37.7s finished  \n",
    "    Fitting 3 folds for each of 11 candidates, totalling 33 fits  \n",
    "    [Parallel(n_jobs=4)]: Using backend SequentialBackend with 1 concurrent workers.  \n",
    "    [Parallel(n_jobs=4)]: Done  33 out of  33 | elapsed:   42.1s finished  \n",
    "    Nested CV score: 0.5350  "
   ]
  },
  {
   "cell_type": "markdown",
   "metadata": {},
   "source": [
    "### Visualize & save the results  \n",
    "Look at the SVC's discriminating weights, and save the plot as a *.png* image and save the results to nifti image"
   ]
  },
  {
   "cell_type": "code",
   "execution_count": null,
   "metadata": {},
   "outputs": [],
   "source": [
    "\n",
    "# Here is the image \n",
    "coef = svc.coef_\n",
    "# reverse feature selection\n",
    "coef = feature_selection.inverse_transform(coef)\n",
    "# reverse masking\n",
    "weight_img = masker.inverse_transform(coef)\n",
    "\n",
    "\n",
    "# Use the mean image as a background to avoid relying on anatomical data\n",
    "from nilearn import image\n",
    "mean_img = image.mean_img(dataset)\n",
    "mean_img.to_filename('/projects/niblab/bids_projects/Experiments/BreakfastClub/derivatives/images/bfclub_mean_powermask.nii')\n",
    "\n",
    "# Create the figure\n",
    "from nilearn.plotting import plot_stat_map, show\n",
    "display = plot_stat_map(weight_img, mean_img, title='SVM weights')\n",
    "display.savefig('/projects/niblab/bids_projects/Experiments/BreakfastClub/derivatives/images/bfclub_nestCV_powermask.png')\n",
    "# Saving the results as a Nifti file may also be important\n",
    "weight_img.to_filename('/projects/niblab/bids_projects/Experiments/BreakfastClub/derivatives/images/bfclub_nestCV_powermask.nii')"
   ]
  },
  {
   "cell_type": "markdown",
   "metadata": {},
   "source": [
    "<img src=\"bfclub_nestCV_powermask.png\">"
   ]
  }
 ],
 "metadata": {
  "kernelspec": {
   "display_name": "Python 3",
   "language": "python",
   "name": "python3"
  },
  "language_info": {
   "codemirror_mode": {
    "name": "ipython",
    "version": 3
   },
   "file_extension": ".py",
   "mimetype": "text/x-python",
   "name": "python",
   "nbconvert_exporter": "python",
   "pygments_lexer": "ipython3",
   "version": "3.6.5"
  }
 },
 "nbformat": 4,
 "nbformat_minor": 2
}
