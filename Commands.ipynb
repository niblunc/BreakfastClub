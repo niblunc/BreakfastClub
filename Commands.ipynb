{
 "cells": [
  {
   "cell_type": "markdown",
   "metadata": {},
   "source": [
    "[nbytes@croatan-2-2 bids_projects]$ singularity shell -B /projects/niblab/bids_projects:/base_dir Singularity_Containers/heudiconv_05_2019.simg \n",
    "Singularity: Invoking an interactive shell within container...\n",
    "\n",
    "Singularity heudiconv_05_2019.simg:~> cd /base_dir/Experiments/BreakfastClub/BIDS\n",
    "Singularity heudiconv_05_2019.simg:/base_dir/Experiments/BreakfastClub/BIDS> \n",
    "Singularity heudiconv_05_2019.simg:/base_dir/Experiments/BreakfastClub/BIDS> heudiconv -d /base_dir/Experiments/BreakfastClub/BIDS2/sourcedata/ses-{session}/sub-{subject}/*dcm -s 001 002 003 004 005 006 007 008 009 010 011 012 013 014 015 016 017 018 019 020 021  -ss 1  -f /base_dir/Experiments/BreakfastClub/BIDS2/code/bclub_heuristic.py -o /base_dir/Experiments/BreakfastClub/BIDS2 -b"
   ]
  },
  {
   "cell_type": "markdown",
   "metadata": {},
   "source": [
    "001 002 003 004 005 006 007 008 009 010 011 012 013 014 015 016 017 018 019 020 021 "
   ]
  },
  {
   "cell_type": "markdown",
   "metadata": {},
   "source": [
    "\n",
    "pip install --no-cache-dir \"templateflow>=0.1.3,<0.2.0a0\" && python -c \"from templateflow import api as tfapi; tfapi.get('MNI152NLin6Asym'); tfapi.get('MNI152NLin2009cAsym'); tfapi.get('OASIS30ANTs');\" && find $TEMPLATEFLOW_HOME -type d -exec chmod go=u {} + && find $TEMPLATEFLOW_HOME -type f -exec chmod go=u {} + \n",
    "   \n",
    "singularity shell  -B /projects/niblab/bids_projects:/home_dir /projects/niblab/bids_projects/Singularity_Containers/fmriprep_5_2019.simg \n",
    "\n",
    "\n",
    "fmriprep /home_dir/Experiments/BreakfastClub/BIDS /home_dir/Experiments/BreakfastClub/fmriprep2 participant --participant-label sub-001 --skip_bids_validation --fs-license-file /home_dir/freesurfer/license.txt --longitudinal --fs-no-reconall --omp-nthreads 16 --n_cpus 16 --bold2t1w-dof 12 --output-spaces MNI152Lin -w /home_dir/Experiments/BreakfastClub/fmriprep2"
   ]
  },
  {
   "cell_type": "code",
   "execution_count": null,
   "metadata": {},
   "outputs": [],
   "source": []
  }
 ],
 "metadata": {
  "kernelspec": {
   "display_name": "Python 3",
   "language": "python",
   "name": "python3"
  },
  "language_info": {
   "codemirror_mode": {
    "name": "ipython",
    "version": 3
   },
   "file_extension": ".py",
   "mimetype": "text/x-python",
   "name": "python",
   "nbconvert_exporter": "python",
   "pygments_lexer": "ipython3",
   "version": "3.6.7"
  }
 },
 "nbformat": 4,
 "nbformat_minor": 2
}
