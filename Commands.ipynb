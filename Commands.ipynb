{
 "cells": [
  {
   "cell_type": "markdown",
   "metadata": {},
   "source": [
    "[nbytes@croatan-2-2 bids_projects]$ singularity shell -B /projects/niblab/bids_projects:/base_dir Singularity_Containers/heudiconv_05_2019.simg \n",
    "Singularity: Invoking an interactive shell within container...\n",
    "\n",
    "Singularity heudiconv_05_2019.simg:~> cd /base_dir/Experiments/BreakfastClub/BIDS\n",
    "Singularity heudiconv_05_2019.simg:/base_dir/Experiments/BreakfastClub/BIDS> \n",
    "Singularity heudiconv_05_2019.simg:/base_dir/Experiments/BreakfastClub/BIDS> heudiconv -d /base_dir/Experiments/BreakfastClub/BIDS2/sourcedata/ses-{session}/sub-{subject}/*dcm -s 001 002 003 004 005 006 007 008 009 010 011 012 013 014 015 016 017 018 019 020 021  -ss 1  -f /base_dir/Experiments/BreakfastClub/BIDS2/code/bclub_heuristic.py -o /base_dir/Experiments/BreakfastClub/BIDS2 -b"
   ]
  },
  {
   "cell_type": "markdown",
   "metadata": {},
   "source": [
    "001 002 003 004 005 006 007 008 009 010 011 012 013 014 015 016 017 018 019 020 021 "
   ]
  }
 ],
 "metadata": {
  "kernelspec": {
   "display_name": "Python 3",
   "language": "python",
   "name": "python3"
  },
  "language_info": {
   "codemirror_mode": {
    "name": "ipython",
    "version": 3
   },
   "file_extension": ".py",
   "mimetype": "text/x-python",
   "name": "python",
   "nbconvert_exporter": "python",
   "pygments_lexer": "ipython3",
   "version": "3.6.7"
  }
 },
 "nbformat": 4,
 "nbformat_minor": 2
}
