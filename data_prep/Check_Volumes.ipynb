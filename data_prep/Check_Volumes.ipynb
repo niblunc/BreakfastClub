{
 "cells": [
  {
   "cell_type": "code",
   "execution_count": 1,
   "metadata": {},
   "outputs": [],
   "source": [
    "import glob\n",
    "from subprocess import check_output"
   ]
  },
  {
   "cell_type": "code",
   "execution_count": null,
   "metadata": {},
   "outputs": [],
   "source": [
    "func_files=sorted(glob.glob(\"/projects/niblab/bids_projects/Experiments/BreakfastClub/derivatives/sub-*/ses-*/func/*_preproc.nii.gz\"))\n",
    "fileout=open(\"/projects/niblab/bids_projects/Experiments/BreakfastClub/derivatives/volumes.txt\", \"a\")\n",
    "\n",
    "for f in func_files:\n",
    "    sess=f.split(\"/\")[-1].split('_')[1]\n",
    "    sub_id=f.split(\"/\")[-1].split('_')[0]\n",
    "    vol = check_output(['fslnvols', f])\n",
    "    vol = int(vol.decode(\"utf-8\"))\n",
    "    print(sub_id, sess, vol)\n",
    "    fileout.write(sub_id +\"\\t\"+ sess + \"\\t\" + str(vol) +\"\\n\")\n",
    "fileout.close()"
   ]
  },
  {
   "cell_type": "code",
   "execution_count": null,
   "metadata": {},
   "outputs": [],
   "source": [
    "# Check volumes from BIDS\n",
    "\n",
    "files = sorted(glob.glob(\"/projects/niblab/bids_projects/Experiments/BreakfastClub/BIDS/sub-*/ses-*/func/sub-*_bold.nii.gz\"))\n",
    "for func in files:\n",
    "    vol = check_output(['fslnvols', func])\n",
    "    vol = int(vol.decode(\"utf-8\"))\n",
    "    print(func.split(\"/\")[-1], vol)"
   ]
  }
 ],
 "metadata": {
  "kernelspec": {
   "display_name": "Python 3",
   "language": "python",
   "name": "python3"
  },
  "language_info": {
   "codemirror_mode": {
    "name": "ipython",
    "version": 3
   },
   "file_extension": ".py",
   "mimetype": "text/x-python",
   "name": "python",
   "nbconvert_exporter": "python",
   "pygments_lexer": "ipython3",
   "version": "3.6.7"
  }
 },
 "nbformat": 4,
 "nbformat_minor": 2
}
