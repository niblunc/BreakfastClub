{
 "cells": [
  {
   "cell_type": "code",
   "execution_count": null,
   "metadata": {},
   "outputs": [],
   "source": [
    "import glob, os \n",
    "from shutil import copy2"
   ]
  },
  {
   "cell_type": "code",
   "execution_count": null,
   "metadata": {},
   "outputs": [],
   "source": [
    "## basedir = '/projects/niblab/bids_projects/Experiments/BreakfastClub'\n",
    "fprepdir = os.path.join(basedir, \"fmriprep\")\n",
    "derivdir= os.path.join(basedir, \"derivatives\")\n",
    "\n",
    "# GET SUBJECTS \n",
    "SUBJECTS = []\n",
    "for sub_dir in sorted(glob.glob(os.path.join(fprepdir, \"sub-*\"))):\n",
    "    sub_id = sub_dir.split(\"/\")[-1]\n",
    "    SUBJECTS.append(sub_id)\n",
    "SESS = \"ses-1\"\n",
    "\n",
    "# MAKE DIRECTORIES\n",
    "for sub_id in SUBJECTS:\n",
    "    sub_deriv_func_path = os.path.join(derivdir, sub_id, SESS, \"func\")\n",
    "    sub_deriv_anat_path =  os.path.join(derivdir, sub_id, SESS, \"anat\")\n",
    "    sub_deriv_onset_path = os.path.join(derivdir, sub_id, SESS, \"func/onsets\")\n",
    "    sub_deriv_ana_path = os.path.join(derivdir, sub_id, SESS, \"func/Analysis\")\n",
    "    sub_deriv_mot_path = os.path.join(derivdir, sub_id, SESS, \"func/motion_assessment/motion_parameters\")\n",
    "    #print(sub_deriv_path)\n",
    "    if not os.path.exists(sub_deriv_func_path):\n",
    "        os.makedirs(sub_deriv_func_path)\n",
    "    if not os.path.exists(sub_deriv_anat_path):\n",
    "        os.makedirs(sub_deriv_anat_path)\n",
    "    if not os.path.exists(sub_deriv_ana_path):\n",
    "        os.makedirs(sub_deriv_ana_path)\n",
    "    if not os.path.exists(sub_deriv_onset_path):\n",
    "        os.makedirs(sub_deriv_onset_path)\n",
    "    if not os.path.exists(sub_deriv_mot_path):\n",
    "        os.makedirs(sub_deriv_mot_path)\n",
    "\n",
    "# GET ANAT FILES AND MOVE TO DERIVATIVES \n",
    "# get file from here: \n",
    "# /projects/niblab/bids_projects/Experiments/BreakfastClub/fmriprep/sub-001/ses-1/fmriprep/sub-001/anat/sub-001_bT1w_space-MNI152NLin2009cAsym_preproc.nii.gz\n",
    "\n",
    "for sub_id in SUBJECTS:\n",
    "    anat_dir = \"/projects/niblab/bids_projects/Experiments/BreakfastClub/derivatives/%s/%s/anat\"%(sub_id, SESS)\n",
    "    anat_file = \"/projects/niblab/bids_projects/Experiments/BreakfastClub/fmriprep2//%s_T1w_space-MNI152NLin2009cAsym_preproc.nii.gz\"%(sub_id, SESS, sub_id, sub_id)\n",
    "    print(\"%s >>>----> %s\"%(anat_file, anat_dir))\n",
    "    copy2(anat_file, anat_dir)\n",
    "    \n",
    "    \n",
    "    "
   ]
  }
 ],
 "metadata": {
  "kernelspec": {
   "display_name": "Python 3",
   "language": "python",
   "name": "python3"
  },
  "language_info": {
   "codemirror_mode": {
    "name": "ipython",
    "version": 3
   },
   "file_extension": ".py",
   "mimetype": "text/x-python",
   "name": "python",
   "nbconvert_exporter": "python",
   "pygments_lexer": "ipython3",
   "version": "3.6.7"
  }
 },
 "nbformat": 4,
 "nbformat_minor": 2
}
