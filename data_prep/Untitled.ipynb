{
 "cells": [
  {
   "cell_type": "code",
   "execution_count": null,
   "metadata": {},
   "outputs": [],
   "source": [
    "import glob, os, shutil\n",
    "\n",
    "subject_folders = sorted(glob.glob(os.path.join(\n",
    "    \"/projects/niblab/bids_projects/Experiments/BreakfastClub/fmriprep_lin/fmriprep\",\n",
    "                                                \"sub-*\")))\n",
    "\n",
    "deriv_path = \"/projects/niblab/bids_projects/Experiments/BreakfastClub/derivatives\"\n",
    "\n",
    "# Target Files: \n",
    "\n",
    "for folder in subject_folders:\n",
    "    if \".html\" not in folder:\n",
    "        sub_id = folder.split(\"/\")[-1]\n",
    "        anat_file_path = os.path.join(folder, \"anat/%s_space-MNI152Lin_desc-preproc_T1w.nii.gz\"%(sub_id))\n",
    "        if os.path.exists(anat_file_path):\n",
    "            anat_deriv_path = os.path.join(deriv_path, \"%s\"%sub_id, \"anat\")\n",
    "            if not os.path.exists(anat_deriv_path):\n",
    "                print(\"making anat directory........\")\n",
    "                os.makedirs(anat_deriv_path)\n",
    "            anat_deriv_file = anat_deriv_path = os.path.join(deriv_path, \n",
    "                                                             \"%s\"%sub_id, \"anat\", \"%s_space-MNI152Lin_desc-preproc_T1w.nii.gz\"%(sub_id))\n",
    "            if not os.path.exists(anat_deriv_file):\n",
    "                shutil.copy2(anat_file_path, anat_deriv_path)\n",
    "                print(\"copying anat file\")\n",
    "        else:\n",
    "            print(\"NO ANAT FILE FOR : %s\"%sub_id)\n",
    "        \n",
    "        s1_rest_file = os.path.join(folder, \"%s/func/%s_%s_task-resting_space-MNI152Lin_desc-preproc_bold.nii.gz\"%(\"ses-1\", sub_id, \"ses-1\"))\n",
    "        s2_rest_file = os.path.join(folder, \"%s/func/%s_%s_task-resting_space-MNI152Lin_desc-preproc_bold.nii.gz\"%(\"ses-2\", sub_id, \"ses-2\"))\n",
    "        if os.path.exists(s1_rest_file) and os.path.exists(s2_rest_file): #and  os.path.exists(s2_rest_file):\n",
    "            func_deriv_path = os.path.join(deriv_path, \"%s\"%sub_id, \"func\")\n",
    "            if not os.path.exists(func_deriv_path):\n",
    "                print(\"making func directory........\")\n",
    "                os.makedirs(func_deriv_path)\n",
    "            s1_func_deriv_file = func_deriv_path = os.path.join(deriv_path, \n",
    "                                                             \"%s\"%sub_id, \"func\", \n",
    "                                                             \"%s_%s_task-resting_space-MNI152Lin_desc-preproc_bold.nii.gz\"%(sub_id, \"ses-1\"))\n",
    "            s2_func_deriv_file = func_deriv_path = os.path.join(deriv_path, \n",
    "                                                             \"%s\"%sub_id, \"func\", \n",
    "                                                             \"%s_%s_task-resting_space-MNI152Lin_desc-preproc_bold.nii.gz\"%(sub_id, \"ses-2\"))\n",
    "            if not os.path.exists(s1_func_deriv_file):\n",
    "                print(\"copying s1 file\",  s1_rest_file)\n",
    "                shutil.copyfile(s1_rest_file, s1_func_deriv_file)\n",
    "            if not os.path.exists(s2_func_deriv_file):\n",
    "                print(\"copying s2 file \")\n",
    "                shutil.copy2(s2_rest_file, func_deriv_path)\n",
    "            \n",
    "\n",
    "        else:\n",
    "            print(\"MISSING RESTING FILES FOR : %s\"%sub_id)\n",
    "\n",
    "        #print(folder)\n",
    "                                         \n",
    "                                         \n",
    "                                         "
   ]
  }
 ],
 "metadata": {
  "kernelspec": {
   "display_name": "Python 3",
   "language": "python",
   "name": "python3"
  },
  "language_info": {
   "codemirror_mode": {
    "name": "ipython",
    "version": 3
   },
   "file_extension": ".py",
   "mimetype": "text/x-python",
   "name": "python",
   "nbconvert_exporter": "python",
   "pygments_lexer": "ipython3",
   "version": "3.6.7"
  }
 },
 "nbformat": 4,
 "nbformat_minor": 2
}
