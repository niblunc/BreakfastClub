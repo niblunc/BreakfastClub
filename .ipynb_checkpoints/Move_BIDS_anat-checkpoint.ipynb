{
 "cells": [
  {
   "cell_type": "code",
   "execution_count": null,
   "metadata": {},
   "outputs": [],
   "source": [
    "import os, glob, shutil\n",
    "\n",
    "BIDS_path = \"/projects/niblab/bids_projects/Experiments/BreakfastClub/BIDS\"\n",
    "SUBJECTS = sorted(glob.glob(os.path.join(BIDS_path, \"sub-*\")))\n",
    "\n",
    "for subject in SUBJECTS:\n",
    "    ses1_path_anat = os.path.join(subject,\"ses-1\", \"anat\")\n",
    "    ses2_path_anat = os.path.join(subject,\"ses-2\", \"anat\")\n",
    "\n",
    "    try:\n",
    "        print(\">Copying %s to destination path %s....\"%(ses2_path_anat, ses1_path_anat))\n",
    "        shutil.copytree(ses2_path_anat, ses1_path_anat) #have to use \"copy\" if destination exists\n",
    "    except:\n",
    "        pass\n",
    "\n",
    "\n",
    "# change name\n",
    "\n",
    "for subject in SUBJECTS:\n",
    "    print(subject)\n",
    "    ses1_anat_files = sorted(glob.glob(os.path.join(subject,\"ses-1\", \"anat\", \"*\")))\n",
    "    for orig_file in ses1_anat_files:\n",
    "        print(orig_file)"
   ]
  }
 ],
 "metadata": {
  "kernelspec": {
   "display_name": "Python 3",
   "language": "python",
   "name": "python3"
  },
  "language_info": {
   "codemirror_mode": {
    "name": "ipython",
    "version": 3
   },
   "file_extension": ".py",
   "mimetype": "text/x-python",
   "name": "python",
   "nbconvert_exporter": "python",
   "pygments_lexer": "ipython3",
   "version": "3.6.7"
  }
 },
 "nbformat": 4,
 "nbformat_minor": 2
}
