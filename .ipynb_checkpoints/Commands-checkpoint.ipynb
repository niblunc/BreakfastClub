{
 "cells": [
  {
   "cell_type": "markdown",
   "metadata": {},
   "source": [
    "[nbytes@croatan-2-2 bids_projects]$ singularity shell -B /projects/niblab/bids_projects:/base_dir Singularity_Containers/heudiconv_05_2019.simg \n",
    "Singularity: Invoking an interactive shell within container...\n",
    "\n",
    "Singularity heudiconv_05_2019.simg:~> cd /base_dir/Experiments/BreakfastClub/BIDS\n",
    "Singularity heudiconv_05_2019.simg:/base_dir/Experiments/BreakfastClub/BIDS> \n",
    "Singularity heudiconv_05_2019.simg:/base_dir/Experiments/BreakfastClub/BIDS> heudiconv -d sourcedata/ses-{session}/{subject}/*dcm -s 001 -ss 2 -o . -f code/bclub_heuristic.py "
   ]
  },
  {
   "cell_type": "code",
   "execution_count": null,
   "metadata": {},
   "outputs": [],
   "source": []
  }
 ],
 "metadata": {
  "kernelspec": {
   "display_name": "Python 3",
   "language": "python",
   "name": "python3"
  },
  "language_info": {
   "codemirror_mode": {
    "name": "ipython",
    "version": 3
   },
   "file_extension": ".py",
   "mimetype": "text/x-python",
   "name": "python",
   "nbconvert_exporter": "python",
   "pygments_lexer": "ipython3",
   "version": "3.6.7"
  }
 },
 "nbformat": 4,
 "nbformat_minor": 2
}
